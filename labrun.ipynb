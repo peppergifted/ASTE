{
 "cells": [
  {
   "cell_type": "code",
   "execution_count": null,
   "id": "816fadc3-d862-414f-8717-791d282062ab",
   "metadata": {},
   "outputs": [],
   "source": [
    "pip install -e ."
   ]
  },
  {
   "cell_type": "code",
   "execution_count": 7,
   "id": "94ad4780-c5b0-4ca0-9b69-9fad29ca340c",
   "metadata": {},
   "outputs": [
    {
     "name": "stdout",
     "output_type": "stream",
     "text": [
      "['14lap', '14res', '15res', '16res']\n"
     ]
    }
   ],
   "source": [
    "# 在Jupyter笔记本中执行\n",
    "import os\n",
    "print(os.listdir(\"dataset/data/ASTE_data_v2\"))"
   ]
  },
  {
   "cell_type": "code",
   "execution_count": 8,
   "id": "21dcf3a4-2867-426a-8d79-78e8cbe35771",
   "metadata": {},
   "outputs": [],
   "source": [
    "# 创建模型保存目录\n",
    "import os\n",
    "os.makedirs(\"models/aste_model/triplet_transformer/wo_amazon/14lap/1\", exist_ok=True)\n",
    "os.makedirs(\"experiment_results/14lap/triplet_transformer/wo_amazon\", exist_ok=True)"
   ]
  },
  {
   "cell_type": "code",
   "execution_count": 13,
   "id": "098e5f78-dd1b-4649-ad18-2d8221fbd086",
   "metadata": {},
   "outputs": [
    {
     "name": "stderr",
     "output_type": "stream",
     "text": [
      "Traceback (most recent call last):\n",
      "  File \"model_trainer.py\", line 7, in <module>\n",
      "    from pytorch_lightning import Trainer\n",
      "ModuleNotFoundError: No module named 'pytorch_lightning'\n"
     ]
    }
   ],
   "source": [
    "# 导入必要的库\n",
    "import os\n",
    "import sys\n",
    "\n",
    "# 禁用wandb（如果不想使用）\n",
    "os.environ[\"WANDB_MODE\"] = \"offline\"  # 或 \"disabled\"\n",
    "\n",
    "\n",
    "# 运行训练脚本\n",
    "!python model_trainer.py --data_path=\"dataset/data/ASTE_data_v2\" --dataset_name=\"14lap\" --result_path=\"experiment_results\" --model_checkpoint_path=\"models/aste_model\" --experiment_id=1"
   ]
  },
  {
   "cell_type": "code",
   "execution_count": 11,
   "id": "878c7de7-df1c-4840-80f3-12aadc2c0876",
   "metadata": {},
   "outputs": [
    {
     "name": "stdout",
     "output_type": "stream",
     "text": [
      "Requirement already satisfied: pytorch_lightning in d:\\anaconda\\lib\\site-packages (2.5.0.post0)\n",
      "Requirement already satisfied: torch>=2.1.0 in c:\\users\\pepper\\appdata\\roaming\\python\\python39\\site-packages (from pytorch_lightning) (2.2.0+cu121)\n",
      "Requirement already satisfied: tqdm>=4.57.0 in d:\\anaconda\\lib\\site-packages (from pytorch_lightning) (4.64.1)\n",
      "Requirement already satisfied: PyYAML>=5.4 in d:\\anaconda\\lib\\site-packages (from pytorch_lightning) (6.0)Note: you may need to restart the kernel to use updated packages.\n",
      "\n",
      "Requirement already satisfied: fsspec>=2022.5.0 in c:\\users\\pepper\\appdata\\roaming\\python\\python39\\site-packages (from fsspec[http]>=2022.5.0->pytorch_lightning) (2024.2.0)\n",
      "Requirement already satisfied: torchmetrics>=0.7.0 in d:\\anaconda\\lib\\site-packages (from pytorch_lightning) (1.6.2)\n",
      "Requirement already satisfied: packaging>=20.0 in d:\\anaconda\\lib\\site-packages (from pytorch_lightning) (21.3)\n",
      "Requirement already satisfied: typing-extensions>=4.4.0 in c:\\users\\pepper\\appdata\\roaming\\python\\python39\\site-packages (from pytorch_lightning) (4.9.0)\n",
      "Requirement already satisfied: lightning-utilities>=0.10.0 in d:\\anaconda\\lib\\site-packages (from pytorch_lightning) (0.12.0)\n",
      "Requirement already satisfied: aiohttp!=4.0.0a0,!=4.0.0a1 in d:\\anaconda\\lib\\site-packages (from fsspec[http]>=2022.5.0->pytorch_lightning) (3.11.13)\n",
      "Requirement already satisfied: setuptools in d:\\anaconda\\lib\\site-packages (from lightning-utilities>=0.10.0->pytorch_lightning) (63.4.1)\n",
      "Requirement already satisfied: pyparsing!=3.0.5,>=2.0.2 in d:\\anaconda\\lib\\site-packages (from packaging>=20.0->pytorch_lightning) (3.0.9)\n",
      "Requirement already satisfied: filelock in d:\\anaconda\\lib\\site-packages (from torch>=2.1.0->pytorch_lightning) (3.6.0)\n",
      "Requirement already satisfied: sympy in c:\\users\\pepper\\appdata\\roaming\\python\\python39\\site-packages (from torch>=2.1.0->pytorch_lightning) (1.13.1)\n",
      "Requirement already satisfied: networkx in d:\\anaconda\\lib\\site-packages (from torch>=2.1.0->pytorch_lightning) (2.8.4)\n",
      "Requirement already satisfied: jinja2 in d:\\anaconda\\lib\\site-packages (from torch>=2.1.0->pytorch_lightning) (2.11.3)\n",
      "Requirement already satisfied: numpy>1.20.0 in c:\\users\\pepper\\appdata\\roaming\\python\\python39\\site-packages (from torchmetrics>=0.7.0->pytorch_lightning) (1.24.4)\n",
      "Requirement already satisfied: colorama in c:\\users\\pepper\\appdata\\roaming\\python\\python39\\site-packages (from tqdm>=4.57.0->pytorch_lightning) (0.4.6)\n",
      "Requirement already satisfied: aiohappyeyeballs>=2.3.0 in d:\\anaconda\\lib\\site-packages (from aiohttp!=4.0.0a0,!=4.0.0a1->fsspec[http]>=2022.5.0->pytorch_lightning) (2.4.8)\n",
      "Requirement already satisfied: aiosignal>=1.1.2 in d:\\anaconda\\lib\\site-packages (from aiohttp!=4.0.0a0,!=4.0.0a1->fsspec[http]>=2022.5.0->pytorch_lightning) (1.3.2)\n",
      "Requirement already satisfied: async-timeout<6.0,>=4.0 in d:\\anaconda\\lib\\site-packages (from aiohttp!=4.0.0a0,!=4.0.0a1->fsspec[http]>=2022.5.0->pytorch_lightning) (5.0.1)\n",
      "Requirement already satisfied: attrs>=17.3.0 in d:\\anaconda\\lib\\site-packages (from aiohttp!=4.0.0a0,!=4.0.0a1->fsspec[http]>=2022.5.0->pytorch_lightning) (21.4.0)\n",
      "Requirement already satisfied: frozenlist>=1.1.1 in d:\\anaconda\\lib\\site-packages (from aiohttp!=4.0.0a0,!=4.0.0a1->fsspec[http]>=2022.5.0->pytorch_lightning) (1.5.0)\n",
      "Requirement already satisfied: multidict<7.0,>=4.5 in d:\\anaconda\\lib\\site-packages (from aiohttp!=4.0.0a0,!=4.0.0a1->fsspec[http]>=2022.5.0->pytorch_lightning) (6.1.0)\n",
      "Requirement already satisfied: propcache>=0.2.0 in d:\\anaconda\\lib\\site-packages (from aiohttp!=4.0.0a0,!=4.0.0a1->fsspec[http]>=2022.5.0->pytorch_lightning) (0.3.0)\n",
      "Requirement already satisfied: yarl<2.0,>=1.17.0 in d:\\anaconda\\lib\\site-packages (from aiohttp!=4.0.0a0,!=4.0.0a1->fsspec[http]>=2022.5.0->pytorch_lightning) (1.18.3)\n",
      "Requirement already satisfied: MarkupSafe>=0.23 in d:\\anaconda\\lib\\site-packages (from jinja2->torch>=2.1.0->pytorch_lightning) (2.0.1)\n",
      "Requirement already satisfied: mpmath<1.4,>=1.1.0 in d:\\anaconda\\lib\\site-packages (from sympy->torch>=2.1.0->pytorch_lightning) (1.2.1)\n",
      "Requirement already satisfied: idna>=2.0 in d:\\anaconda\\lib\\site-packages (from yarl<2.0,>=1.17.0->aiohttp!=4.0.0a0,!=4.0.0a1->fsspec[http]>=2022.5.0->pytorch_lightning) (3.3)\n"
     ]
    }
   ],
   "source": [
    "pip install pytorch_lightning"
   ]
  },
  {
   "cell_type": "code",
   "execution_count": 4,
   "id": "fdc159e7-23f8-440f-a3ef-06bb9049f239",
   "metadata": {},
   "outputs": [],
   "source": [
    "import fire"
   ]
  },
  {
   "cell_type": "code",
   "execution_count": 7,
   "id": "741ec665-3964-4dc0-a98c-eca10545b37c",
   "metadata": {},
   "outputs": [
    {
     "name": "stdout",
     "output_type": "stream",
     "text": [
      "D:\\anaconda\\python.exe\n"
     ]
    }
   ],
   "source": [
    "import sys\n",
    "print(sys.executable)"
   ]
  },
  {
   "cell_type": "code",
   "execution_count": 6,
   "id": "8338f2e6-7d7b-4a09-ba7e-8d1d0ac659fd",
   "metadata": {},
   "outputs": [],
   "source": [
    "!conda activate aste_env"
   ]
  },
  {
   "cell_type": "code",
   "execution_count": null,
   "id": "06e06663-108d-42cf-99bc-06d0fa85450a",
   "metadata": {},
   "outputs": [],
   "source": [
    "!pip install ipykernel"
   ]
  },
  {
   "cell_type": "code",
   "execution_count": null,
   "id": "3816a5eb-271d-41c7-87e1-fa3164483a9d",
   "metadata": {},
   "outputs": [],
   "source": []
  },
  {
   "cell_type": "code",
   "execution_count": null,
   "id": "3384be9c-0c97-4f08-a737-909d053eebd6",
   "metadata": {},
   "outputs": [],
   "source": []
  },
  {
   "cell_type": "code",
   "execution_count": null,
   "id": "2b4b3843-272d-423a-9a1f-6eb416e1173c",
   "metadata": {},
   "outputs": [],
   "source": []
  },
  {
   "cell_type": "code",
   "execution_count": null,
   "id": "6b77c579-9ac1-4428-aa1f-4bf8eec5578c",
   "metadata": {},
   "outputs": [],
   "source": []
  },
  {
   "cell_type": "markdown",
   "id": "dcc60eee-e808-4e2d-b743-9d80a9c064f4",
   "metadata": {},
   "source": [
    "步骤1：克隆或移动项目到工作目录"
   ]
  },
  {
   "cell_type": "markdown",
   "id": "7af8e8d0-3379-4e56-9d02-7b5ae5973949",
   "metadata": {},
   "source": [
    "如果项目文件还没有在你的工作目录中：\n",
    "\n",
    "在JupyterLab中打开终端（File > New > Terminal）\n",
    "导航到你想要的工作目录（例如：cd D:\\projects）\n",
    "将ASTE-Transformer-main文件夹复制到此处（如果还没有的话）"
   ]
  },
  {
   "cell_type": "markdown",
   "id": "195e3b4b-5d6f-42c8-bc67-24db529d1a1d",
   "metadata": {},
   "source": [
    "步骤2：安装项目依赖\n",
    "在JupyterLab终端中执行："
   ]
  },
  {
   "cell_type": "code",
   "execution_count": null,
   "id": "221b561a-65d4-4339-90b0-4f62185d2f6d",
   "metadata": {},
   "outputs": [],
   "source": [
    "# 导航到项目目录\n",
    "cd ASTE-Transformer-main\n",
    "\n",
    "# 安装项目依赖\n",
    "pip install -e ."
   ]
  },
  {
   "cell_type": "markdown",
   "id": "754c73d2-a083-4d41-9632-eeed5406ac82",
   "metadata": {},
   "source": [
    "步骤3：检查数据集\n",
    "确认有14lap、14res等子目录，每个子目录中应有train.txt、dev.txt和test.txt。"
   ]
  },
  {
   "cell_type": "code",
   "execution_count": null,
   "id": "ef84d92a-3f42-48e3-834c-357ac630c89e",
   "metadata": {},
   "outputs": [],
   "source": [
    "# 查看数据集目录结构\n",
    "ls dataset/data/ASTE_data_v2"
   ]
  },
  {
   "cell_type": "markdown",
   "id": "2f99eac3-1033-4986-9a63-31638942fe87",
   "metadata": {},
   "source": [
    "步骤4：创建模型保存目录"
   ]
  },
  {
   "cell_type": "code",
   "execution_count": null,
   "id": "1931d8e4-915c-4c74-95a6-03f71b14a78f",
   "metadata": {},
   "outputs": [],
   "source": [
    "mkdir -p models/aste_model/triplet_transformer/wo_amazon/14lap/1\n",
    "mkdir -p experiment_results/14lap/triplet_transformer/wo_amazon"
   ]
  },
  {
   "cell_type": "markdown",
   "id": "e4c7ab19-cf3a-40f8-962f-8f8bdbd96ab4",
   "metadata": {},
   "source": [
    "步骤5：配置项目\n",
    "如果需要修改配置（例如使用CPU而非GPU），你可以：\n",
    "\n",
    "在JupyterLab中打开aste/configs/default_config.yml\n",
    "将device: cuda改为device: cpu（如果没有GPU）\n",
    "根据需要调整batch size和其他参数"
   ]
  },
  {
   "cell_type": "markdown",
   "id": "de4017d6-8928-4fdf-9f33-eab820bab0a9",
   "metadata": {},
   "source": [
    "步骤6：运行训练脚本\n",
    "创建一个新的Jupyter Notebook（.ipynb文件），然后运行\n",
    "\n",
    "如果你不想使用Wandb进行实验跟踪，可以在运行前修改model_trainer.py，注释掉Wandb相关的代码，或者创建一个离线运行模式。"
   ]
  },
  {
   "cell_type": "code",
   "execution_count": null,
   "id": "2599c3ed-b7c3-45d5-ac0f-479bc43decb5",
   "metadata": {},
   "outputs": [],
   "source": [
    "# 导入必要的库\n",
    "import os\n",
    "import sys\n",
    "\n",
    "# 添加项目根目录到系统路径\n",
    "sys.path.append('D:/path/to/ASTE-Transformer-main')  # 替换为实际路径\n",
    "\n",
    "# 运行训练脚本\n",
    "!python model_trainer.py --data_path=\"dataset/data/ASTE_data_v2\" --dataset_name=\"14lap\" --result_path=\"experiment_results\" --model_checkpoint_path=\"models/aste_model\" --experiment_id=1"
   ]
  },
  {
   "cell_type": "markdown",
   "id": "03e0a95d-1500-4895-a193-08e29ee295de",
   "metadata": {},
   "source": [
    "步骤7：监控训练进度\n",
    "训练过程将在notebook输出中显示。你可以观察训练进度、损失值和评估指标。如果使用了Wandb，还可以通过Wandb界面查看更详细的信息。"
   ]
  },
  {
   "cell_type": "markdown",
   "id": "b70ccf6e-468b-47d8-bcb4-2ffa32720d28",
   "metadata": {},
   "source": [
    "步骤8：评估模型\n",
    "训练完成后，模型会自动在测试集上进行评估。结果将保存在experiment_results目录中。"
   ]
  },
  {
   "cell_type": "markdown",
   "id": "b5e0a81f-8c33-4872-b36c-d7900d38dee1",
   "metadata": {},
   "source": [
    "步骤9：使用训练好的模型\n",
    "如果你想使用训练好的模型进行预测，可以创建另一个notebook，加载保存的模型："
   ]
  },
  {
   "cell_type": "code",
   "execution_count": null,
   "id": "68132e23-5ff1-4ff6-870a-59291080d46a",
   "metadata": {},
   "outputs": [],
   "source": [
    "from aste.configs import base_config\n",
    "from aste.models import SentimentPredictorTripletModel\n",
    "from aste.dataset.encoders import TransformerEncoder\n",
    "from aste.dataset.reader import DatasetLoader\n",
    "\n",
    "# 加载模型\n",
    "model_path = \"models/aste_model/triplet_transformer/wo_amazon/14lap/1/aste_model.ckpt\"\n",
    "config = base_config\n",
    "model = SentimentPredictorTripletModel.load_from_checkpoint(\n",
    "    checkpoint_path=model_path, \n",
    "    config=config\n",
    ")\n",
    "model.eval()  # 设置为评估模式\n",
    "\n",
    "# 准备数据\n",
    "encoder = TransformerEncoder()\n",
    "dataset_reader = DatasetLoader(data_path=\"dataset/data/ASTE_data_v2/14lap\", encoder=encoder, config=config)\n",
    "test_data = dataset_reader.load('test.txt', shuffle=False)\n",
    "\n",
    "# 进行预测\n",
    "predictions = model.predict(test_data)"
   ]
  },
  {
   "cell_type": "code",
   "execution_count": null,
   "id": "8985c6f5-af3c-41af-a910-2e2a8b9a2011",
   "metadata": {},
   "outputs": [],
   "source": []
  },
  {
   "cell_type": "code",
   "execution_count": null,
   "id": "42ca259e-4ab4-4c5d-ba39-005d3b23fa7a",
   "metadata": {},
   "outputs": [],
   "source": []
  },
  {
   "cell_type": "code",
   "execution_count": null,
   "id": "01b759a0-4ce3-4af0-a652-e85338a11c92",
   "metadata": {},
   "outputs": [],
   "source": []
  },
  {
   "cell_type": "code",
   "execution_count": null,
   "id": "22ab2ecd-dbee-4103-9f0c-cad29e8643ad",
   "metadata": {},
   "outputs": [],
   "source": []
  },
  {
   "cell_type": "code",
   "execution_count": null,
   "id": "f30dd97c-aa27-49af-9322-058c16b84fce",
   "metadata": {},
   "outputs": [],
   "source": []
  },
  {
   "cell_type": "code",
   "execution_count": null,
   "id": "b5164bf9-8d22-4175-b782-ea409a62244c",
   "metadata": {},
   "outputs": [],
   "source": []
  },
  {
   "cell_type": "code",
   "execution_count": null,
   "id": "1784a4e1-2e04-458a-a626-3dc932cf1736",
   "metadata": {},
   "outputs": [],
   "source": []
  },
  {
   "cell_type": "code",
   "execution_count": null,
   "id": "2ad74088-7b9c-4cc7-99b6-34014e45cfa2",
   "metadata": {},
   "outputs": [],
   "source": []
  },
  {
   "cell_type": "code",
   "execution_count": null,
   "id": "a6a90481-b28c-4fb6-ae7f-e55acae31953",
   "metadata": {},
   "outputs": [],
   "source": []
  },
  {
   "cell_type": "code",
   "execution_count": null,
   "id": "736e2379-8500-4b7a-9935-82e9e1cfbb97",
   "metadata": {},
   "outputs": [],
   "source": []
  },
  {
   "cell_type": "code",
   "execution_count": null,
   "id": "5fbffef3-84f6-46b3-8b78-a4f2cf1fc2ad",
   "metadata": {},
   "outputs": [],
   "source": []
  },
  {
   "cell_type": "code",
   "execution_count": null,
   "id": "aa5b8720-fe71-4e6b-a5e8-3addbbc59e3a",
   "metadata": {},
   "outputs": [],
   "source": []
  }
 ],
 "metadata": {
  "kernelspec": {
   "display_name": "Python 3 (ipykernel)",
   "language": "python",
   "name": "python3"
  },
  "language_info": {
   "codemirror_mode": {
    "name": "ipython",
    "version": 3
   },
   "file_extension": ".py",
   "mimetype": "text/x-python",
   "name": "python",
   "nbconvert_exporter": "python",
   "pygments_lexer": "ipython3",
   "version": "3.9.13"
  }
 },
 "nbformat": 4,
 "nbformat_minor": 5
}
